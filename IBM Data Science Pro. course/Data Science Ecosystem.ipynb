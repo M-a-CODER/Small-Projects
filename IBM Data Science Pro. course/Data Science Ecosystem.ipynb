{
 "cells": [
  {
   "cell_type": "markdown",
   "id": "5eebdbde-dc72-4ed5-bb88-ff27b40c8f35",
   "metadata": {},
   "source": [
    "# Data Science Tools and Ecosystem"
   ]
  },
  {
   "cell_type": "markdown",
   "id": "8e9793e8-baa9-4b1e-a9fe-95faf8f3eee2",
   "metadata": {},
   "source": [
    "In this notebook, Data Science Tools and Ecosystem are summarized."
   ]
  },
  {
   "cell_type": "markdown",
   "id": "2a971c44-e9fc-4c56-865c-547d95ce08f7",
   "metadata": {},
   "source": [
    "##### Objectives\n",
    "* List of popular languages for Data Science.\n",
    "* List of common used libraries for Data Science.\n",
    "* List of few Data Science Tools.\n",
    "* Few simple Arithmetic expressions in Python."
   ]
  },
  {
   "cell_type": "markdown",
   "id": "3bd39d46-d5ff-4c65-8b2e-3aaaea4b0f19",
   "metadata": {
    "tags": []
   },
   "source": [
    "Some popular language used in Data Science are:\n",
    "1. Python\n",
    "2. SQL\n",
    "3. R"
   ]
  },
  {
   "cell_type": "markdown",
   "id": "e6332a27-5962-4f26-a6b0-814b17e81648",
   "metadata": {
    "tags": []
   },
   "source": [
    "Some commonly used librabries in Data Science are:\n",
    "1. TensorFlow\n",
    "2. NumPy\n",
    "3. Matplotlib\n",
    "4. Keras\n",
    "5. Pytorch\n",
    "6. SciPy\n",
    "7. Scrapy\n",
    "8. Ramp\n",
    "9. Bob\n",
    "10. Pybrain"
   ]
  },
  {
   "cell_type": "markdown",
   "id": "e58d252d-5197-4681-898e-b7cbe7b61d6d",
   "metadata": {
    "tags": []
   },
   "source": [
    "| Data Science Tools |\n",
    "| --- |\n",
    "| Rstudio |\n",
    "| Jupyterlab/notebook |\n",
    "| Watson Studio |"
   ]
  },
  {
   "cell_type": "markdown",
   "id": "1be0ae56-0d72-48d7-ae4e-ff97d7cc71fd",
   "metadata": {
    "tags": []
   },
   "source": [
    "### Below are a few examples of evaluating arithmetic expressions in Python."
   ]
  },
  {
   "cell_type": "code",
   "execution_count": 20,
   "id": "9e0ccd0b-8447-4e6e-8bf2-929277afd642",
   "metadata": {},
   "outputs": [
    {
     "data": {
      "text/plain": [
       "17"
      ]
     },
     "execution_count": 20,
     "metadata": {},
     "output_type": "execute_result"
    }
   ],
   "source": [
    "#This a simple arithmetic expression to mutiply then add integers\n",
    "(3*4)+5"
   ]
  },
  {
   "cell_type": "code",
   "execution_count": 21,
   "id": "4032dd35-17c5-4b2b-a0e0-976a05866b9e",
   "metadata": {},
   "outputs": [
    {
     "name": "stdout",
     "output_type": "stream",
     "text": [
      "3.3333333333333335 hours\n"
     ]
    }
   ],
   "source": [
    "#This will convert 200 minutes to hours by diving by 60.\n",
    "minutes = 200\n",
    "hour = minutes/60\n",
    "print(hour,\"hours\")"
   ]
  },
  {
   "cell_type": "markdown",
   "id": "4d12b28c-ecd7-47c0-8057-6b53891a6030",
   "metadata": {},
   "source": [
    "## AUTHOR\n",
    "\n",
    "NISHANT KUMAR"
   ]
  }
 ],
 "metadata": {
  "kernelspec": {
   "display_name": "Python 3 (ipykernel)",
   "language": "python",
   "name": "python3"
  },
  "language_info": {
   "codemirror_mode": {
    "name": "ipython",
    "version": 3
   },
   "file_extension": ".py",
   "mimetype": "text/x-python",
   "name": "python",
   "nbconvert_exporter": "python",
   "pygments_lexer": "ipython3",
   "version": "3.11.4"
  }
 },
 "nbformat": 4,
 "nbformat_minor": 5
}
